{
 "cells": [
  {
   "cell_type": "markdown",
   "metadata": {
    "id": "hired-handbook"
   },
   "source": [
    "<h1>QIIME2 Workflow</h1>\n",
    "\n",
    "This notebook is a guide on working with QIIME2 with raw paired-end demultiplexed reads as the starting dataset. This notebook includes quality checking of raw reads, primer trimming, OTU picking, taxonomic assignment, and exporting data.\n",
    "\n",
    "This workflow was built with the following as the main references: <a href = 'https://github.com/LangilleLab/microbiome_helper/wiki/Amplicon-SOP-v2-(qiime2-2020.8)'>LangilleLab SOP</a>, <a href = 'https://docs.qiime2.org/2021.2/tutorials/moving-pictures/'>\"Moving pictures\" Tutorial</a>, and <a href = 'https://docs.qiime2.org/2021.2/tutorials/atacama-soils/'>\"Atacama soil microbiome\" tutorial</a>.\n",
    "\n",
    "Written for Day 1 of Bioinformatics Workshop by the Microbial Oceanography Laboratory. Credits: LBR dela Peña, BW Hingpit, JB Quijano, D Purganan. "
   ]
  },
  {
   "cell_type": "markdown",
   "metadata": {
    "id": "fresh-little"
   },
   "source": [
    "## <font color ='blue'>How to Use This Notebook</font>\n",
    "\n",
    "1. Activate conda environment in terminal window. Make sure to change the environment name to what is applicable in your case.\n",
    ">`conda activate qiime2-2021.2`\n",
    "2. Open jupyter notebook with the command below and select the notebook.\n",
    ">`jupyter-notebook`\n",
    "3. To run the cells in this notebook, press Shift+Enter.\n",
    "4. At any point in the workshop when running a command fails or takes too long, you can copy the necessary files from the resources to your data folder to be able to proceed to the next step."
   ]
  },
  {
   "cell_type": "markdown",
   "metadata": {
    "id": "exact-omaha"
   },
   "source": [
    "## Starting Files \n",
    "\n",
    "1. This Jupyter notebook \n",
    "2. A **data-links.txt** file containing ftp links\n",
    "3. A downloaded **resources** folder containing sample results and important files\n",
    "4. Directories for organizing the data. To make the folders, run the following code block:"
   ]
  },
  {
   "cell_type": "code",
   "execution_count": 1,
   "metadata": {
    "id": "pleasant-acceptance",
    "scrolled": true
   },
   "outputs": [
    {
     "name": "stdout",
     "output_type": "stream",
     "text": [
      "/home/bdhingpit/metabarcoding/Day 1/data\n"
     ]
    }
   ],
   "source": [
    "!mkdir data\n",
    "%cd data\n",
    "!mkdir \\\n",
    "cleanup\\\n",
    "raw-sequences\\\n",
    "tax-assign"
   ]
  },
  {
   "cell_type": "markdown",
   "metadata": {
    "id": "lucky-chemical"
   },
   "source": [
    "---\n",
    "## Table of Contents\n",
    " * [**Step 1: Data Preparation**](#Step-1:-Data-Preparation)  \n",
    "     * [Making the manifest file](#Making-the-manifest-file)\n",
    "     * [Making the metadata file](#Making-the-metadata-file)\n",
    "     * [Importing sequences](#Importing-sequences)  \n",
    "     * [Quality checking](#Quality-checking)\n",
    " * [**Step 2: Data Processing**](#Step-2:-Data-Processing)  \n",
    "     * [Trimming primers](#Trim-primers)\n",
    "     * [Merging reads](#Merging-reads)\n",
    "     * [Quality filtering](#Quality-filtering)\n",
    "     * [OTU clustering](#OTU-clustering)\n",
    "     * [Filtering and chimera removal](#Filtering-singletons-and-chimeras)\n",
    " * [**Step 3: Assigning Taxonomy**](#Step-3:-Assign-Taxonomy)\n",
    "     * [Feature data summaries](#Feature-data-summaries)\n",
    "     * [Taxonomy assignment using SILVA](#Taxonomy-assignment-using-SILVA)\n",
    "     * [Exporting OTU tables](#Exporting-OTU-tables)\n",
    "---"
   ]
  },
  {
   "cell_type": "markdown",
   "metadata": {
    "id": "hispanic-context"
   },
   "source": [
    "# <font color = 'gray'>Step 1: Data Preparation</font>\n"
   ]
  },
  {
   "cell_type": "markdown",
   "metadata": {
    "id": "commercial-anatomy"
   },
   "source": [
    "We have uploaded our raw sequencing reads to [NCBI SRA](https://www.ncbi.nlm.nih.gov/sra/), a public repository for HTS data. The data is accessible [here](https://www.ncbi.nlm.nih.gov/sra/PRJNA656691).\n",
    "\n",
    "*Notes about the data:\n",
    "This tutorial uses data from sequencing of environmental DNA from two sampling sites: **Bolinao** and .**Masinloc** collected in 2019. We targeted the 18S-V4 region of eukaryotes using [Comeau (2011)](https://doi.org/10.1371/journal.pone.0027492) primers. More information about the samples and prior processing can be found in our [paper](https://www.researchgate.net/publication/345988236_Diversity_of_Marine_Eukaryotic_Picophytoplankton_Communities_with_Emphasis_on_Mamiellophyceae_in_Northwestern_Philippines).*"
   ]
  },
  {
   "cell_type": "markdown",
   "metadata": {
    "id": "accompanied-acting"
   },
   "source": [
    "To download the files, we prepared a list of [links](./data-links.txt) to download the files locally using wget. Alternatively, you can download the files from the Google Drive and place them inside the **/data/raw-sequences/** folder."
   ]
  },
  {
   "cell_type": "code",
   "execution_count": null,
   "metadata": {
    "id": "earlier-victim",
    "scrolled": true
   },
   "outputs": [],
   "source": [
    "!wget -i ../data-links.txt -P raw-sequences/\n",
    "# If this step takes too long, stop this by interrupting the kernel. (Press stop button / black square icon)\n",
    "# Run the next cell block instead"
   ]
  },
  {
   "cell_type": "code",
   "execution_count": 2,
   "metadata": {
    "id": "db37cdcd"
   },
   "outputs": [],
   "source": [
    "# Run the following command if the previous step takes too long:\n",
    "!mkdir -p raw-sequences/\n",
    "!cp -R ../resources/data/raw-sequences/*.fastq.gz ./raw-sequences/"
   ]
  },
  {
   "cell_type": "markdown",
   "metadata": {
    "id": "formed-service"
   },
   "source": [
    "Now, we have two files per sample: one file containing the forward reads, and the other containing the reverse reads.  \n",
    "The file names follow the format:\n",
    "> SRANumber_1.fastq.gz, SRANumber_2.fastq.gz  \n",
    "\n",
    "where the forward reads have the number '1' and the reverse reads have the number '2'. \n",
    "\n",
    "### Making the manifest file\n",
    "\n",
    "Before we import our data, we have to make a **manifest file** that contains links to the forward and reverse file paths of each sample."
   ]
  },
  {
   "cell_type": "code",
   "execution_count": 7,
   "metadata": {
    "id": "neural-bones",
    "scrolled": true
   },
   "outputs": [],
   "source": [
    "import pandas as pd\n",
    "import glob\n",
    "import os\n",
    "\n",
    "sampleIDs, forwardpaths, reversepaths = [],[],[]\n",
    "fpath= os.getcwd()+\"/raw-sequences/\"\n",
    "for filepath in (glob.glob(fpath+\"*.gz\")):\n",
    "    sample = filepath.split(\"/\")[-1].split(\"_\")[0]\n",
    "    if sample not in sampleIDs:\n",
    "        sampleIDs.append(sample)\n",
    "    if \"_1.fastq.gz\" in filepath:\n",
    "        forwardpaths.append(filepath)\n",
    "    elif \"_2.fastq.gz\" in filepath:\n",
    "        reversepaths.append(filepath)\n",
    "\n",
    "manifest =  pd.DataFrame({'sampleID': sorted(sampleIDs), 'forward-absolute-filepath': sorted(forwardpaths), 'reverse-absolute-filepath':sorted(reversepaths)} ) \n",
    "with open('manifest.txt', 'w') as m:\n",
    "    print(manifest.to_csv(sep='\\t', index=False, header=True), file=m)"
   ]
  },
  {
   "cell_type": "markdown",
   "metadata": {
    "id": "single-swedish"
   },
   "source": [
    "This [manifest file](data/manifest.txt) will show the sample ID (or SRA Number) and the absolute paths to the forward and reverse reads.\n",
    "\n",
    "### Making the metadata file\n",
    "\n",
    "We also have to make a **metadata file** that describes our data, which we will use for the later analyses. For this, we can install Entrez, which fetches the information attached to the data from NCBI."
   ]
  },
  {
   "cell_type": "code",
   "execution_count": 4,
   "metadata": {
    "id": "19cc96d0"
   },
   "outputs": [],
   "source": [
    "# Install Entrez\n",
    "!printf 'N' | /bin/bash -c \"$(wget -q ftp://ftp.ncbi.nlm.nih.gov/entrez/entrezdirect/install-edirect.sh -O -)\""
   ]
  },
  {
   "cell_type": "code",
   "execution_count": 8,
   "metadata": {
    "id": "e1d36392"
   },
   "outputs": [],
   "source": [
    "# Getting metadata from NCBI using Entrez direct\n",
    "with open('metadata.txt', mode='w') as m:\n",
    "    m.write(' \\n'.join(sorted(sampleIDs)))\n",
    "\n",
    "# Obtain sample IDs \n",
    "meta =! cat metadata.txt | epost -db sra -format 'acc' \\\n",
    "  | efetch -format runinfo \\\n",
    "  | cut -f1,12 -d,\n",
    "\n",
    "# Make columns\n",
    "meta[0] = 'sample-id,sample-name'\n",
    "\n",
    "# Write metadata file\n",
    "with open('metadata.txt', mode='w') as m:\n",
    "    m.write('\\n'.join(meta))"
   ]
  },
  {
   "cell_type": "markdown",
   "metadata": {
    "id": "tough-complex"
   },
   "source": [
    "This [metadata file](metadata.txt) will show the sample IDs (or SRA Number) and the sample names. The sample names also describe other details of the samples. Optionally, we can tabulate this information:"
   ]
  },
  {
   "cell_type": "code",
   "execution_count": 2,
   "metadata": {},
   "outputs": [],
   "source": [
    "import pandas as pd"
   ]
  },
  {
   "cell_type": "code",
   "execution_count": 1,
   "metadata": {},
   "outputs": [
    {
     "name": "stdout",
     "output_type": "stream",
     "text": [
      "/home/bdhingpit/metabarcoding/Day 1/data\n"
     ]
    }
   ],
   "source": [
    "cd data"
   ]
  },
  {
   "cell_type": "code",
   "execution_count": 9,
   "metadata": {
    "id": "desperate-surfing",
    "scrolled": true
   },
   "outputs": [
    {
     "data": {
      "text/html": [
       "<div>\n",
       "<style scoped>\n",
       "    .dataframe tbody tr th:only-of-type {\n",
       "        vertical-align: middle;\n",
       "    }\n",
       "\n",
       "    .dataframe tbody tr th {\n",
       "        vertical-align: top;\n",
       "    }\n",
       "\n",
       "    .dataframe thead th {\n",
       "        text-align: right;\n",
       "    }\n",
       "</style>\n",
       "<table border=\"1\" class=\"dataframe\">\n",
       "  <thead>\n",
       "    <tr style=\"text-align: right;\">\n",
       "      <th></th>\n",
       "      <th>sample-id</th>\n",
       "      <th>sample-name</th>\n",
       "      <th>fraction</th>\n",
       "      <th>site</th>\n",
       "      <th>month</th>\n",
       "    </tr>\n",
       "  </thead>\n",
       "  <tbody>\n",
       "    <tr>\n",
       "      <th>0</th>\n",
       "      <td>SRR12442324</td>\n",
       "      <td>Apr5_BOLB_S</td>\n",
       "      <td>S</td>\n",
       "      <td>BOLB</td>\n",
       "      <td>Apr</td>\n",
       "    </tr>\n",
       "    <tr>\n",
       "      <th>1</th>\n",
       "      <td>SRR12442354</td>\n",
       "      <td>Feb16_BOLB_S</td>\n",
       "      <td>S</td>\n",
       "      <td>BOLB</td>\n",
       "      <td>Feb</td>\n",
       "    </tr>\n",
       "    <tr>\n",
       "      <th>2</th>\n",
       "      <td>SRR12442353</td>\n",
       "      <td>Feb22_BOLB_S</td>\n",
       "      <td>S</td>\n",
       "      <td>BOLB</td>\n",
       "      <td>Feb</td>\n",
       "    </tr>\n",
       "    <tr>\n",
       "      <th>3</th>\n",
       "      <td>SRR12442323</td>\n",
       "      <td>Jan20_MZA_S</td>\n",
       "      <td>S</td>\n",
       "      <td>MZA</td>\n",
       "      <td>Jan</td>\n",
       "    </tr>\n",
       "    <tr>\n",
       "      <th>4</th>\n",
       "      <td>SRR12442322</td>\n",
       "      <td>Jan20_MZB_S</td>\n",
       "      <td>S</td>\n",
       "      <td>MZB</td>\n",
       "      <td>Jan</td>\n",
       "    </tr>\n",
       "    <tr>\n",
       "      <th>5</th>\n",
       "      <td>SRR12442342</td>\n",
       "      <td>Mar1_BOLB_S</td>\n",
       "      <td>S</td>\n",
       "      <td>BOLB</td>\n",
       "      <td>Mar</td>\n",
       "    </tr>\n",
       "    <tr>\n",
       "      <th>6</th>\n",
       "      <td>SRR12442331</td>\n",
       "      <td>Mar23_BOLB_S</td>\n",
       "      <td>S</td>\n",
       "      <td>BOLB</td>\n",
       "      <td>Mar</td>\n",
       "    </tr>\n",
       "    <tr>\n",
       "      <th>7</th>\n",
       "      <td>SRR12442325</td>\n",
       "      <td>Mar29_BOLB_S</td>\n",
       "      <td>S</td>\n",
       "      <td>BOLB</td>\n",
       "      <td>Mar</td>\n",
       "    </tr>\n",
       "  </tbody>\n",
       "</table>\n",
       "</div>"
      ],
      "text/plain": [
       "     sample-id   sample-name fraction  site month\n",
       "0  SRR12442324   Apr5_BOLB_S        S  BOLB   Apr\n",
       "1  SRR12442354  Feb16_BOLB_S        S  BOLB   Feb\n",
       "2  SRR12442353  Feb22_BOLB_S        S  BOLB   Feb\n",
       "3  SRR12442323   Jan20_MZA_S        S   MZA   Jan\n",
       "4  SRR12442322   Jan20_MZB_S        S   MZB   Jan\n",
       "5  SRR12442342   Mar1_BOLB_S        S  BOLB   Mar\n",
       "6  SRR12442331  Mar23_BOLB_S        S  BOLB   Mar\n",
       "7  SRR12442325  Mar29_BOLB_S        S  BOLB   Mar"
      ]
     },
     "execution_count": 9,
     "metadata": {},
     "output_type": "execute_result"
    }
   ],
   "source": [
    "# Optional: add more entries (fraction, site, date)\n",
    "meta = pd.read_csv('metadata.txt', sep=\",\", header = 0)\n",
    "meta['fraction'] = meta['sample-name'].str.split('_').str[-1]\n",
    "meta['site'] = meta['sample-name'].str.split('_').str[1]\n",
    "meta['month'] = meta['sample-name'].str[:3]\n",
    "meta"
   ]
  },
  {
   "cell_type": "code",
   "execution_count": 10,
   "metadata": {
    "id": "rotary-kuwait",
    "scrolled": true
   },
   "outputs": [],
   "source": [
    "# Save the new metadata file\n",
    "with open('metadata.txt', 'w') as m:\n",
    "    print(meta.to_csv(sep='\\t', index=False, header=True), file=m)"
   ]
  },
  {
   "cell_type": "code",
   "execution_count": null,
   "metadata": {
    "id": "fc3b1e97"
   },
   "outputs": [],
   "source": [
    "# Run the following command if the previous step fails (uncomment the next line or remove hashtag #)\n",
    "#!cp -R ../resources/data/metadata.txt ."
   ]
  },
  {
   "cell_type": "markdown",
   "metadata": {
    "id": "thousand-million"
   },
   "source": [
    "\n",
    "### Importing sequences\n",
    "Now that we prepared all the necessary files, we can make our first QIIME command: importing the sequence data."
   ]
  },
  {
   "cell_type": "code",
   "execution_count": 11,
   "metadata": {
    "id": "4062ed48"
   },
   "outputs": [
    {
     "name": "stdout",
     "output_type": "stream",
     "text": [
      "\u001b[32mImported manifest.txt as PairedEndFastqManifestPhred33V2 to raw-sequences/seqs.qza\u001b[0m\r\n"
     ]
    }
   ],
   "source": [
    "# Import the sequences\n",
    "# Insert path to sequence folder after '--input-path'\n",
    "!qiime tools import \\\n",
    "    --type 'SampleData[PairedEndSequencesWithQuality]' \\\n",
    "    --input-path manifest.txt \\\n",
    "    --output-path raw-sequences/seqs.qza \\\n",
    "    --input-format PairedEndFastqManifestPhred33V2"
   ]
  },
  {
   "cell_type": "code",
   "execution_count": null,
   "metadata": {
    "id": "4df13c1e"
   },
   "outputs": [],
   "source": [
    "# Run the following command if the previous step fails / takes too long (uncomment the next line or remove hashtag #)\n",
    "#!cp -R ../resources/data/raw-sequences/seqs.qza ./raw-sequences/"
   ]
  },
  {
   "cell_type": "markdown",
   "metadata": {
    "id": "soviet-exclusion"
   },
   "source": [
    "\n",
    "\n",
    "This converts the sequence data into a **QIIME artifact**. Artifacts have the extension '.qza'\n",
    "\n",
    "### Quality checking\n",
    "\n",
    "Our sequences are already *demultiplexed*, meaning they are already separated into different samples. We can use the `demux` plugin instead to visualize our sequences. **QIIME visualizations** have the extension '.qzv'. The .qzv files can be viewed in  http://view.qiime2.org or we can import the `qiime2` module to view the visualizations inline.\n",
    "\n"
   ]
  },
  {
   "cell_type": "code",
   "execution_count": 2,
   "metadata": {
    "collapsed": true,
    "id": "accessory-metallic"
   },
   "outputs": [
    {
     "name": "stdout",
     "output_type": "stream",
     "text": [
      "\u001b[32mSaved Visualization to: raw-sequences/seqs.qzv\u001b[0m\r\n"
     ]
    },
    {
     "data": {
      "text/html": [
       "<div><img onload=\"(function(div, url){\n",
       "if (typeof require !== 'undefined') {\n",
       "    var baseURL = require.toUrl('').split('/').slice(0, -2).join('/');\n",
       "} else {\n",
       "    var baseURL = JSON.parse(\n",
       "        document.getElementById('jupyter-config-data').innerHTML\n",
       "    ).baseUrl.slice(0, -1);\n",
       "}\n",
       "url = baseURL + url;\n",
       "fetch(url).then(function(res) {\n",
       "    if (res.status === 404) {\n",
       "        div.innerHTML = 'Install QIIME 2 Jupyter extension with:<br />' +\n",
       "                        '<code>jupyter serverextension enable --py qiime2' +\n",
       "                        ' --sys-prefix</code><br />then restart your server.' +\n",
       "                        '<br /><br />(Interactive output not available on ' +\n",
       "                        'static notebook viewer services like nbviewer.)';\n",
       "    } else if (res.status === 409) {\n",
       "        div.innerHTML = 'Visualization no longer in scope. Re-run this cell' +\n",
       "                        ' to see the visualization.';\n",
       "    } else if (res.ok) {\n",
       "        url = res.url;\n",
       "        div.innerHTML = '<iframe src=\\'' + url + '\\' style=\\'' +\n",
       "                        'width: 100%; height: 700px; border: 0;\\'>' +\n",
       "                        '</iframe><hr />Open in a: <a href=\\'' + url + '\\'' +\n",
       "                        ' target=\\'_blank\\'>new window</a>'\n",
       "    } else {\n",
       "        div.innerHTML = 'Something has gone wrong. Check notebook server for' +\n",
       "                        ' errors.';\n",
       "    }\n",
       "});\n",
       "})(this.parentElement, '/qiime2/redirect?location=/tmp/qiime2-archive-70dypfq3')\" src=\"data:image/gif;base64,R0lGODlhAQABAIAAAP///wAAACH5BAEAAAAALAAAAAABAAEAAAICRAEAOw==\" /></div>"
      ],
      "text/plain": [
       "<visualization: Visualization uuid: b6eaa8ac-239c-4204-af65-5fd5c1e04e62>"
      ]
     },
     "execution_count": 2,
     "metadata": {},
     "output_type": "execute_result"
    }
   ],
   "source": [
    "# Make summary of the QIIME2 artifact (.qza file)\n",
    "!qiime demux summarize \\\n",
    "    --i-data  raw-sequences/seqs.qza \\\n",
    "    --o-visualization raw-sequences/seqs.qzv\n",
    "\n",
    "import qiime2 as q2\n",
    "# Visualize\n",
    "q2.Visualization.load('raw-sequences/seqs.qzv')"
   ]
  },
  {
   "cell_type": "markdown",
   "metadata": {
    "id": "processed-review"
   },
   "source": [
    "Open the visualization summary and go to the **Interactive Quality Plot**. Here, we can see the average quality score of the reads at each position. In general, we want to maintain a score above 30. \n",
    " \n",
    "----\n",
    "# <font color = 'gray'>Step 2: Data Processing</font>\n"
   ]
  },
  {
   "cell_type": "markdown",
   "metadata": {
    "id": "vocational-garlic"
   },
   "source": [
    "To prepare our sequences, we have to perform several steps:\n",
    "1. Trim primers\n",
    "2. Merge paired-end reads\n",
    "3. Filter sequences by quality\n",
    "4. Dereplicate\n",
    "5. Pick OTUs\n",
    "6. Filter chimeras and singletons\n",
    "\n",
    "⚠️  Some commands here may take a long time, depending on how whether your machine is able to handle the task. If at any point you think the command is taking too long, you can copy the files from the /resources/ folder we provided."
   ]
  },
  {
   "cell_type": "markdown",
   "metadata": {
    "id": "descending-association"
   },
   "source": [
    "### Trim primers\n",
    "To remove the primers in our sequences, we use the `cutadapt` plugin. The primers used were E572F/E1009R, which have **18bp** and **20bp** lengths, respectively. Removing the primers is important especially if there are ambiguous bases, which might get confused as chimeric or low quality positions. You can explore more about the primer sequences, length, and predicted amplicon size in this excellent app [PR-2 Primers](https://app.pr2-primers.org/). "
   ]
  },
  {
   "cell_type": "code",
   "execution_count": 3,
   "metadata": {
    "id": "charged-attention",
    "scrolled": true
   },
   "outputs": [
    {
     "name": "stdout",
     "output_type": "stream",
     "text": [
      "\u001b[32mSaved SampleData[PairedEndSequencesWithQuality] to: cleanup/primer-trimmed-seqs.qza\u001b[0m\r\n"
     ]
    }
   ],
   "source": [
    "!qiime cutadapt trim-paired \\\n",
    "    --i-demultiplexed-sequences raw-sequences/seqs.qza \\\n",
    "    --p-front-f CYGCGGTAATTCCAGCTC \\\n",
    "    --p-front-r AYGGTATCTRATCRTCTTYG \\\n",
    "    --p-error-rate 0 \\\n",
    "    --o-trimmed-sequences cleanup/primer-trimmed-seqs.qza"
   ]
  },
  {
   "cell_type": "markdown",
   "metadata": {
    "id": "planned-bolivia"
   },
   "source": [
    "### Merging reads\n",
    "Now, we merge our forward and reverse reads using `vsearch`. We set our minimum overlap to 12 bases, which is also the default in other programs."
   ]
  },
  {
   "cell_type": "code",
   "execution_count": 4,
   "metadata": {
    "id": "listed-episode",
    "scrolled": true
   },
   "outputs": [
    {
     "name": "stdout",
     "output_type": "stream",
     "text": [
      "\u001b[32mSaved SampleData[JoinedSequencesWithQuality] to: cleanup/merged-seqs.qza\u001b[0m\r\n"
     ]
    }
   ],
   "source": [
    "!qiime vsearch join-pairs \\\n",
    "  --i-demultiplexed-seqs cleanup/primer-trimmed-seqs.qza \\\n",
    "  --p-minovlen 12\\\n",
    "  --o-joined-sequences cleanup/merged-seqs.qza"
   ]
  },
  {
   "cell_type": "markdown",
   "metadata": {
    "id": "seven-machinery"
   },
   "source": [
    "### Quality filtering\n",
    "In the next step, we will filter out low-quality sequences. We set our minimum PHRED score to **30**, filtering out low-quality sequences."
   ]
  },
  {
   "cell_type": "code",
   "execution_count": 5,
   "metadata": {
    "id": "differential-graduation",
    "scrolled": true
   },
   "outputs": [
    {
     "name": "stdout",
     "output_type": "stream",
     "text": [
      "\u001b[32mSaved SampleData[JoinedSequencesWithQuality] to: cleanup/merged-qc-seqs.qza\u001b[0m\r\n",
      "\u001b[32mSaved QualityFilterStats to: cleanup/merged-qc-stats.qza\u001b[0m\r\n"
     ]
    }
   ],
   "source": [
    "!qiime quality-filter q-score\\\n",
    "  --i-demux cleanup/merged-seqs.qza \\\n",
    "  --o-filtered-sequences cleanup/merged-qc-seqs.qza \\\n",
    "  --p-min-quality 30\\\n",
    "  --o-filter-stats cleanup/merged-qc-stats.qza"
   ]
  },
  {
   "cell_type": "markdown",
   "metadata": {
    "id": "indoor-citation"
   },
   "source": [
    "### Dereplicating\n",
    "\n",
    "Dereplication of sequences can be done using `vsearch`. This outputs a table and a sequence artifact."
   ]
  },
  {
   "cell_type": "code",
   "execution_count": 6,
   "metadata": {
    "id": "addressed-cancellation",
    "scrolled": true
   },
   "outputs": [
    {
     "name": "stdout",
     "output_type": "stream",
     "text": [
      "\u001b[32mSaved FeatureTable[Frequency] to: cleanup/drp-table.qza\u001b[0m\n",
      "\u001b[32mSaved FeatureData[Sequence] to: cleanup/drp-seqs.qza\u001b[0m\n"
     ]
    }
   ],
   "source": [
    "!qiime vsearch dereplicate-sequences \\\n",
    "  --i-sequences cleanup/merged-qc-seqs.qza  \\\n",
    "  --o-dereplicated-table cleanup/drp-table.qza \\\n",
    "  --o-dereplicated-sequences cleanup/drp-seqs.qza"
   ]
  },
  {
   "cell_type": "markdown",
   "metadata": {
    "id": "touched-newcastle"
   },
   "source": [
    "Let's take a peek at the resulting table:"
   ]
  },
  {
   "cell_type": "code",
   "execution_count": 7,
   "metadata": {
    "id": "wireless-mouth"
   },
   "outputs": [
    {
     "name": "stdout",
     "output_type": "stream",
     "text": [
      "\u001b[32mSaved Visualization to: cleanup/drp-table.qzv\u001b[0m\r\n"
     ]
    },
    {
     "data": {
      "text/html": [
       "<div><img onload=\"(function(div, url){\n",
       "if (typeof require !== 'undefined') {\n",
       "    var baseURL = require.toUrl('').split('/').slice(0, -2).join('/');\n",
       "} else {\n",
       "    var baseURL = JSON.parse(\n",
       "        document.getElementById('jupyter-config-data').innerHTML\n",
       "    ).baseUrl.slice(0, -1);\n",
       "}\n",
       "url = baseURL + url;\n",
       "fetch(url).then(function(res) {\n",
       "    if (res.status === 404) {\n",
       "        div.innerHTML = 'Install QIIME 2 Jupyter extension with:<br />' +\n",
       "                        '<code>jupyter serverextension enable --py qiime2' +\n",
       "                        ' --sys-prefix</code><br />then restart your server.' +\n",
       "                        '<br /><br />(Interactive output not available on ' +\n",
       "                        'static notebook viewer services like nbviewer.)';\n",
       "    } else if (res.status === 409) {\n",
       "        div.innerHTML = 'Visualization no longer in scope. Re-run this cell' +\n",
       "                        ' to see the visualization.';\n",
       "    } else if (res.ok) {\n",
       "        url = res.url;\n",
       "        div.innerHTML = '<iframe src=\\'' + url + '\\' style=\\'' +\n",
       "                        'width: 100%; height: 700px; border: 0;\\'>' +\n",
       "                        '</iframe><hr />Open in a: <a href=\\'' + url + '\\'' +\n",
       "                        ' target=\\'_blank\\'>new window</a>'\n",
       "    } else {\n",
       "        div.innerHTML = 'Something has gone wrong. Check notebook server for' +\n",
       "                        ' errors.';\n",
       "    }\n",
       "});\n",
       "})(this.parentElement, '/qiime2/redirect?location=/tmp/qiime2-archive-_hhzorwd')\" src=\"data:image/gif;base64,R0lGODlhAQABAIAAAP///wAAACH5BAEAAAAALAAAAAABAAEAAAICRAEAOw==\" /></div>"
      ],
      "text/plain": [
       "<visualization: Visualization uuid: 5a3e4cfb-d897-42c4-a07e-d734c02d4054>"
      ]
     },
     "execution_count": 7,
     "metadata": {},
     "output_type": "execute_result"
    }
   ],
   "source": [
    "# Summarize table\n",
    "!qiime feature-table summarize \\\n",
    "    --i-table cleanup/drp-table.qza \\\n",
    "    --o-visualization cleanup/drp-table.qzv \\\n",
    "    --m-sample-metadata-file metadata.txt\n",
    "# Visualize\n",
    "q2.Visualization.load('cleanup/drp-table.qzv')"
   ]
  },
  {
   "cell_type": "code",
   "execution_count": 13,
   "metadata": {
    "collapsed": true
   },
   "outputs": [
    {
     "name": "stdout",
     "output_type": "stream",
     "text": [
      "\u001b[32mSaved Visualization to: ../resources/data/cleanup/drp-seqs.qzv\u001b[0m\r\n"
     ]
    },
    {
     "data": {
      "text/html": [
       "<div><img onload=\"(function(div, url){\n",
       "if (typeof require !== 'undefined') {\n",
       "    var baseURL = require.toUrl('').split('/').slice(0, -2).join('/');\n",
       "} else {\n",
       "    var baseURL = JSON.parse(\n",
       "        document.getElementById('jupyter-config-data').innerHTML\n",
       "    ).baseUrl.slice(0, -1);\n",
       "}\n",
       "url = baseURL + url;\n",
       "fetch(url).then(function(res) {\n",
       "    if (res.status === 404) {\n",
       "        div.innerHTML = 'Install QIIME 2 Jupyter extension with:<br />' +\n",
       "                        '<code>jupyter serverextension enable --py qiime2' +\n",
       "                        ' --sys-prefix</code><br />then restart your server.' +\n",
       "                        '<br /><br />(Interactive output not available on ' +\n",
       "                        'static notebook viewer services like nbviewer.)';\n",
       "    } else if (res.status === 409) {\n",
       "        div.innerHTML = 'Visualization no longer in scope. Re-run this cell' +\n",
       "                        ' to see the visualization.';\n",
       "    } else if (res.ok) {\n",
       "        url = res.url;\n",
       "        div.innerHTML = '<iframe src=\\'' + url + '\\' style=\\'' +\n",
       "                        'width: 100%; height: 700px; border: 0;\\'>' +\n",
       "                        '</iframe><hr />Open in a: <a href=\\'' + url + '\\'' +\n",
       "                        ' target=\\'_blank\\'>new window</a>'\n",
       "    } else {\n",
       "        div.innerHTML = 'Something has gone wrong. Check notebook server for' +\n",
       "                        ' errors.';\n",
       "    }\n",
       "});\n",
       "})(this.parentElement, '/qiime2/redirect?location=/tmp/qiime2-archive-ip4_5_i9')\" src=\"data:image/gif;base64,R0lGODlhAQABAIAAAP///wAAACH5BAEAAAAALAAAAAABAAEAAAICRAEAOw==\" /></div>"
      ],
      "text/plain": [
       "<visualization: Visualization uuid: cee96c3b-f87c-4c4d-9161-f7256ba5992e>"
      ]
     },
     "execution_count": 13,
     "metadata": {},
     "output_type": "execute_result"
    }
   ],
   "source": [
    "!qiime feature-table tabulate-seqs \\\n",
    "    --i-data ../resources/data/cleanup/drp-seqs.qza \\\n",
    "    --o-visualization ../resources/data/cleanup/drp-seqs.qzv\n",
    "    \n",
    "q2.Visualization.load('../resources/data/cleanup/drp-seqs.qzv')"
   ]
  },
  {
   "cell_type": "code",
   "execution_count": 14,
   "metadata": {
    "collapsed": true
   },
   "outputs": [
    {
     "name": "stdout",
     "output_type": "stream",
     "text": [
      "\u001b[32mSaved Visualization to: cleanup/drp-seqs.qzv\u001b[0m\r\n"
     ]
    },
    {
     "data": {
      "text/html": [
       "<div><img onload=\"(function(div, url){\n",
       "if (typeof require !== 'undefined') {\n",
       "    var baseURL = require.toUrl('').split('/').slice(0, -2).join('/');\n",
       "} else {\n",
       "    var baseURL = JSON.parse(\n",
       "        document.getElementById('jupyter-config-data').innerHTML\n",
       "    ).baseUrl.slice(0, -1);\n",
       "}\n",
       "url = baseURL + url;\n",
       "fetch(url).then(function(res) {\n",
       "    if (res.status === 404) {\n",
       "        div.innerHTML = 'Install QIIME 2 Jupyter extension with:<br />' +\n",
       "                        '<code>jupyter serverextension enable --py qiime2' +\n",
       "                        ' --sys-prefix</code><br />then restart your server.' +\n",
       "                        '<br /><br />(Interactive output not available on ' +\n",
       "                        'static notebook viewer services like nbviewer.)';\n",
       "    } else if (res.status === 409) {\n",
       "        div.innerHTML = 'Visualization no longer in scope. Re-run this cell' +\n",
       "                        ' to see the visualization.';\n",
       "    } else if (res.ok) {\n",
       "        url = res.url;\n",
       "        div.innerHTML = '<iframe src=\\'' + url + '\\' style=\\'' +\n",
       "                        'width: 100%; height: 700px; border: 0;\\'>' +\n",
       "                        '</iframe><hr />Open in a: <a href=\\'' + url + '\\'' +\n",
       "                        ' target=\\'_blank\\'>new window</a>'\n",
       "    } else {\n",
       "        div.innerHTML = 'Something has gone wrong. Check notebook server for' +\n",
       "                        ' errors.';\n",
       "    }\n",
       "});\n",
       "})(this.parentElement, '/qiime2/redirect?location=/tmp/qiime2-archive-388obd__')\" src=\"data:image/gif;base64,R0lGODlhAQABAIAAAP///wAAACH5BAEAAAAALAAAAAABAAEAAAICRAEAOw==\" /></div>"
      ],
      "text/plain": [
       "<visualization: Visualization uuid: a03f1bb8-dc1a-4541-85b2-be831b67dbef>"
      ]
     },
     "execution_count": 14,
     "metadata": {},
     "output_type": "execute_result"
    }
   ],
   "source": [
    "!qiime feature-table tabulate-seqs \\\n",
    "    --i-data cleanup/drp-seqs.qza \\\n",
    "    --o-visualization cleanup/drp-seqs.qzv\n",
    "\n",
    "q2.Visualization.load('cleanup/drp-seqs.qzv')"
   ]
  },
  {
   "cell_type": "markdown",
   "metadata": {
    "id": "reflected-criticism"
   },
   "source": [
    "### OTU clustering\n",
    "\n",
    "Vsearch can also perform OTU picking, which clusters sequences according to their similarity. OTU clustering can be done with a reference database, by grouping sequences that match with the same reference sequence. For this step, we will use a classifier curated by MOLab, which uses a combination of the SILVA and Nordicana databases."
   ]
  },
  {
   "cell_type": "code",
   "execution_count": 1,
   "metadata": {},
   "outputs": [
    {
     "name": "stdout",
     "output_type": "stream",
     "text": [
      "/home/bdhingpit/metabarcoding/Day 1/data\n"
     ]
    }
   ],
   "source": [
    "cd data"
   ]
  },
  {
   "cell_type": "code",
   "execution_count": 3,
   "metadata": {
    "id": "knowing-stream",
    "scrolled": true
   },
   "outputs": [
    {
     "name": "stdout",
     "output_type": "stream",
     "text": [
      "Usage: \u001b[34mqiime vsearch cluster-features-open-reference\u001b[0m [OPTIONS]\r\n",
      "\r\n",
      "  Given a feature table and the associated feature sequences, cluster the\r\n",
      "  features against a reference database based on user-specified percent\r\n",
      "  identity threshold of their sequences. Any sequences that don't match are\r\n",
      "  then clustered de novo. This is not a general-purpose clustering method,\r\n",
      "  but rather is intended to be used for clustering the results of quality-\r\n",
      "  filtering/dereplication methods, such as DADA2, or for re-clustering a\r\n",
      "  FeatureTable at a lower percent identity than it was originally clustered\r\n",
      "  at. When a group of features in the input table are clustered into a\r\n",
      "  single feature, the frequency of that single feature in a given sample is\r\n",
      "  the sum of the frequencies of the features that were clustered in that\r\n",
      "  sample. Feature identifiers will be inherited from the centroid feature of\r\n",
      "  each cluster. For features that match a reference sequence, the centroid\r\n",
      "  feature is that reference sequence, so its identifier will become the\r\n",
      "  feature identifier. The clustered_sequences result will contain feature\r\n",
      "  representative sequences that are derived from the sequences input for all\r\n",
      "  features in clustered_table. This will always be the most abundant\r\n",
      "  sequence in the cluster. The new_reference_sequences result will contain\r\n",
      "  the entire reference database, plus feature representative sequences for\r\n",
      "  any de novo features. This is intended to be used as a reference database\r\n",
      "  in subsequent iterations of cluster_features_open_reference, if\r\n",
      "  applicable. See the vsearch documentation for details on how sequence\r\n",
      "  clustering is performed.\r\n",
      "\r\n",
      "\u001b[1mInputs\u001b[0m:\r\n",
      "  \u001b[34m\u001b[4m--i-sequences\u001b[0m ARTIFACT \u001b[32mFeatureData[Sequence]\u001b[0m\r\n",
      "                          The sequences corresponding to the features in\r\n",
      "                          table.                                    \u001b[35m[required]\u001b[0m\r\n",
      "  \u001b[34m\u001b[4m--i-table\u001b[0m ARTIFACT \u001b[32mFeatureTable[Frequency]\u001b[0m\r\n",
      "                          The feature table to be clustered.        \u001b[35m[required]\u001b[0m\r\n",
      "  \u001b[34m\u001b[4m--i-reference-sequences\u001b[0m ARTIFACT \u001b[32mFeatureData[Sequence]\u001b[0m\r\n",
      "                          The sequences to use as cluster centroids.\r\n",
      "                                                                    \u001b[35m[required]\u001b[0m\r\n",
      "\u001b[1mParameters\u001b[0m:\r\n",
      "  \u001b[34m\u001b[4m--p-perc-identity\u001b[0m PROPORTION \u001b[32mRange(0, 1, inclusive_start=False,\u001b[0m\r\n",
      "    \u001b[32minclusive_end=True)\u001b[0m   The percent identity at which clustering should be\r\n",
      "                          performed. This parameter maps to vsearch's --id\r\n",
      "                          parameter.                                \u001b[35m[required]\u001b[0m\r\n",
      "  \u001b[34m--p-strand\u001b[0m TEXT \u001b[32mChoices('plus', 'both')\u001b[0m\r\n",
      "                          Search plus (i.e., forward) or both (i.e., forward\r\n",
      "                          and reverse complement) strands.   \u001b[35m[default: 'plus']\u001b[0m\r\n",
      "  \u001b[34m--p-threads\u001b[0m INTEGER \u001b[32mRange(0, 256, inclusive_end=True)\u001b[0m\r\n",
      "                          The number of threads to use for computation.\r\n",
      "                          Passing 0 will launch one thread per CPU core.\r\n",
      "                                                                  \u001b[35m[default: 1]\u001b[0m\r\n",
      "\u001b[1mOutputs\u001b[0m:\r\n",
      "  \u001b[34m\u001b[4m--o-clustered-table\u001b[0m ARTIFACT \u001b[32mFeatureTable[Frequency]\u001b[0m\r\n",
      "                          The table following clustering of features.\r\n",
      "                                                                    \u001b[35m[required]\u001b[0m\r\n",
      "  \u001b[34m\u001b[4m--o-clustered-sequences\u001b[0m ARTIFACT \u001b[32mFeatureData[Sequence]\u001b[0m\r\n",
      "                          Sequences representing clustered features.\r\n",
      "                                                                    \u001b[35m[required]\u001b[0m\r\n",
      "  \u001b[34m\u001b[4m--o-new-reference-sequences\u001b[0m ARTIFACT \u001b[32mFeatureData[Sequence]\u001b[0m\r\n",
      "                          The new reference sequences. This can be used for\r\n",
      "                          subsequent runs of open-reference clustering for\r\n",
      "                          consistent definitions of features across\r\n",
      "                          open-reference feature tables.            \u001b[35m[required]\u001b[0m\r\n",
      "\u001b[1mMiscellaneous\u001b[0m:\r\n",
      "  \u001b[34m--output-dir\u001b[0m PATH       Output unspecified results to a directory\r\n",
      "  \u001b[34m--verbose\u001b[0m / \u001b[34m--quiet\u001b[0m     Display verbose output to stdout and/or stderr\r\n",
      "                          during execution of this action. Or silence output\r\n",
      "                          if execution is successful (silence is golden).\r\n",
      "  \u001b[34m--examples\u001b[0m              Show usage examples and exit.\r\n",
      "  \u001b[34m--citations\u001b[0m             Show citations and exit.\r\n",
      "  \u001b[34m--help\u001b[0m                  Show this message and exit.\r\n",
      "\r\n",
      "\u001b[33m                    There was a problem with the command:                     \u001b[0m\r\n",
      "\u001b[31m\u001b[1m (1/1) Invalid value for '--i-reference-sequences': Expected an artifact of at\r\n",
      "  least type FeatureData[Sequence]. An artifact of type TaxonomicClassifier\r\n",
      "  was provided.\u001b[0m\r\n"
     ]
    }
   ],
   "source": [
    "# Reference: Molab silva nord sequences\n",
    "\n",
    "!qiime vsearch cluster-features-open-reference \\\n",
    "  --i-table ../resources/data/cleanup/drp-table.qza \\\n",
    "  --i-sequences ../resources/data/cleanup/drp-seqs.qza \\\n",
    "  --p-perc-identity 0.98 \\\n",
    "  --i-reference-sequences ../silva-138-nord-classifier.qza \\\n",
    "  --o-clustered-table cleanup/clust-OTU-table.qza \\\n",
    "  --o-clustered-sequences cleanup/clust-OTU-seqs.qza \\\n",
    "  --o-new-reference-sequences cleanup/clust-OTU-ref-seqs.qza"
   ]
  },
  {
   "cell_type": "code",
   "execution_count": 18,
   "metadata": {
    "collapsed": true,
    "id": "isolated-initial"
   },
   "outputs": [
    {
     "name": "stdout",
     "output_type": "stream",
     "text": [
      "\u001b[32mSaved Visualization to: cleanup/clust-OTU-table.qzv\u001b[0m\r\n"
     ]
    },
    {
     "data": {
      "text/html": [
       "<div><img onload=\"(function(div, url){\n",
       "if (typeof require !== 'undefined') {\n",
       "    var baseURL = require.toUrl('').split('/').slice(0, -2).join('/');\n",
       "} else {\n",
       "    var baseURL = JSON.parse(\n",
       "        document.getElementById('jupyter-config-data').innerHTML\n",
       "    ).baseUrl.slice(0, -1);\n",
       "}\n",
       "url = baseURL + url;\n",
       "fetch(url).then(function(res) {\n",
       "    if (res.status === 404) {\n",
       "        div.innerHTML = 'Install QIIME 2 Jupyter extension with:<br />' +\n",
       "                        '<code>jupyter serverextension enable --py qiime2' +\n",
       "                        ' --sys-prefix</code><br />then restart your server.' +\n",
       "                        '<br /><br />(Interactive output not available on ' +\n",
       "                        'static notebook viewer services like nbviewer.)';\n",
       "    } else if (res.status === 409) {\n",
       "        div.innerHTML = 'Visualization no longer in scope. Re-run this cell' +\n",
       "                        ' to see the visualization.';\n",
       "    } else if (res.ok) {\n",
       "        url = res.url;\n",
       "        div.innerHTML = '<iframe src=\\'' + url + '\\' style=\\'' +\n",
       "                        'width: 100%; height: 700px; border: 0;\\'>' +\n",
       "                        '</iframe><hr />Open in a: <a href=\\'' + url + '\\'' +\n",
       "                        ' target=\\'_blank\\'>new window</a>'\n",
       "    } else {\n",
       "        div.innerHTML = 'Something has gone wrong. Check notebook server for' +\n",
       "                        ' errors.';\n",
       "    }\n",
       "});\n",
       "})(this.parentElement, '/qiime2/redirect?location=/tmp/qiime2-archive-7ae7orh1')\" src=\"data:image/gif;base64,R0lGODlhAQABAIAAAP///wAAACH5BAEAAAAALAAAAAABAAEAAAICRAEAOw==\" /></div>"
      ],
      "text/plain": [
       "<visualization: Visualization uuid: 24d35987-d0f5-4a7c-98c4-ba4bf44ee713>"
      ]
     },
     "execution_count": 18,
     "metadata": {},
     "output_type": "execute_result"
    }
   ],
   "source": [
    "# Summarize OTU table\n",
    "!qiime feature-table summarize \\\n",
    "    --i-table cleanup/clust-OTU-table.qza  \\\n",
    "    --o-visualization cleanup/clust-OTU-table.qzv \\\n",
    "    --m-sample-metadata-file metadata.txt\n",
    "# Visualize\n",
    "q2.Visualization.load('cleanup/clust-OTU-table.qzv')"
   ]
  },
  {
   "cell_type": "code",
   "execution_count": 19,
   "metadata": {},
   "outputs": [
    {
     "data": {
      "text/html": [
       "<div><img onload=\"(function(div, url){\n",
       "if (typeof require !== 'undefined') {\n",
       "    var baseURL = require.toUrl('').split('/').slice(0, -2).join('/');\n",
       "} else {\n",
       "    var baseURL = JSON.parse(\n",
       "        document.getElementById('jupyter-config-data').innerHTML\n",
       "    ).baseUrl.slice(0, -1);\n",
       "}\n",
       "url = baseURL + url;\n",
       "fetch(url).then(function(res) {\n",
       "    if (res.status === 404) {\n",
       "        div.innerHTML = 'Install QIIME 2 Jupyter extension with:<br />' +\n",
       "                        '<code>jupyter serverextension enable --py qiime2' +\n",
       "                        ' --sys-prefix</code><br />then restart your server.' +\n",
       "                        '<br /><br />(Interactive output not available on ' +\n",
       "                        'static notebook viewer services like nbviewer.)';\n",
       "    } else if (res.status === 409) {\n",
       "        div.innerHTML = 'Visualization no longer in scope. Re-run this cell' +\n",
       "                        ' to see the visualization.';\n",
       "    } else if (res.ok) {\n",
       "        url = res.url;\n",
       "        div.innerHTML = '<iframe src=\\'' + url + '\\' style=\\'' +\n",
       "                        'width: 100%; height: 700px; border: 0;\\'>' +\n",
       "                        '</iframe><hr />Open in a: <a href=\\'' + url + '\\'' +\n",
       "                        ' target=\\'_blank\\'>new window</a>'\n",
       "    } else {\n",
       "        div.innerHTML = 'Something has gone wrong. Check notebook server for' +\n",
       "                        ' errors.';\n",
       "    }\n",
       "});\n",
       "})(this.parentElement, '/qiime2/redirect?location=/tmp/qiime2-archive-rn8qw8wp')\" src=\"data:image/gif;base64,R0lGODlhAQABAIAAAP///wAAACH5BAEAAAAALAAAAAABAAEAAAICRAEAOw==\" /></div>"
      ],
      "text/plain": [
       "<visualization: Visualization uuid: a59aa161-767a-4857-a4d1-ddbf1e448523>"
      ]
     },
     "execution_count": 19,
     "metadata": {},
     "output_type": "execute_result"
    }
   ],
   "source": [
    "q2.Visualization.load('../resources/data/cleanup/clust-OTU-table.qzv')"
   ]
  },
  {
   "cell_type": "markdown",
   "metadata": {
    "id": "forced-albert"
   },
   "source": [
    "### Filtering singletons and chimeras\n",
    "\n",
    "We can remove singletons using `feature-table`. The `min-frequency` parameter is set to 2 to remove those occuring only once."
   ]
  },
  {
   "cell_type": "code",
   "execution_count": 20,
   "metadata": {
    "id": "inappropriate-limit",
    "scrolled": true
   },
   "outputs": [
    {
     "name": "stdout",
     "output_type": "stream",
     "text": [
      "\u001b[32mSaved FeatureTable[Frequency] to: cleanup/filtered-OTU-table.qza\u001b[0m\n",
      "\u001b[32mSaved FeatureData[Sequence] to: cleanup/filtered-OTU-seqs.qza\u001b[0m\n"
     ]
    }
   ],
   "source": [
    "!qiime feature-table filter-features \\\n",
    "  --i-table cleanup/clust-OTU-table.qza  \\\n",
    "  --p-min-frequency 2 \\\n",
    "  --o-filtered-table cleanup/filtered-OTU-table.qza \n",
    "\n",
    "!qiime feature-table filter-seqs \\\n",
    "    --i-data cleanup/clust-OTU-seqs.qza \\\n",
    "    --i-table cleanup/filtered-OTU-table.qza \\\n",
    "    --o-filtered-data cleanup/filtered-OTU-seqs.qza"
   ]
  },
  {
   "cell_type": "markdown",
   "metadata": {
    "id": "complete-customs"
   },
   "source": [
    "Chimeras can be removed using `vsearch uchime`. "
   ]
  },
  {
   "cell_type": "code",
   "execution_count": 21,
   "metadata": {
    "id": "caroline-proposal",
    "scrolled": true
   },
   "outputs": [
    {
     "name": "stdout",
     "output_type": "stream",
     "text": [
      "\u001b[32mSaved FeatureData[Sequence] to: chimeras/chimeras.qza\u001b[0m\n",
      "\u001b[32mSaved FeatureData[Sequence] to: chimeras/nonchimeras.qza\u001b[0m\n",
      "\u001b[32mSaved UchimeStats to: chimeras/stats.qza\u001b[0m\n"
     ]
    }
   ],
   "source": [
    "#Detect chimeras\n",
    "!qiime vsearch uchime-denovo\\\n",
    "    --i-sequences cleanup/filtered-OTU-seqs.qza \\\n",
    "    --i-table cleanup/filtered-OTU-table.qza \\\n",
    "    --output-dir chimeras/"
   ]
  },
  {
   "cell_type": "code",
   "execution_count": 22,
   "metadata": {
    "id": "stupid-recycling",
    "scrolled": true
   },
   "outputs": [
    {
     "name": "stdout",
     "output_type": "stream",
     "text": [
      "\u001b[32mSaved FeatureTable[Frequency] to: cleanup/OTU-table.qza\u001b[0m\n",
      "\u001b[32mSaved FeatureData[Sequence] to: cleanup/OTU-rep-seqs.qza\u001b[0m\n"
     ]
    }
   ],
   "source": [
    "#Remove chimeras from the table\n",
    "!qiime feature-table filter-features \\\n",
    "  --i-table cleanup/filtered-OTU-table.qza \\\n",
    "  --m-metadata-file chimeras/nonchimeras.qza \\\n",
    "  --o-filtered-table cleanup/OTU-table.qza\n",
    "\n",
    "#Remove chimeras from the sequences\n",
    "!qiime feature-table filter-seqs \\\n",
    "  --i-data cleanup/filtered-OTU-seqs.qza \\\n",
    "  --m-metadata-file chimeras/nonchimeras.qza \\\n",
    "  --o-filtered-data cleanup/OTU-rep-seqs.qza"
   ]
  },
  {
   "cell_type": "markdown",
   "metadata": {
    "id": "promotional-stability"
   },
   "source": [
    "---\n",
    "# <font color = 'gray'>Step 3: Assign Taxonomy</font>\n"
   ]
  },
  {
   "cell_type": "markdown",
   "metadata": {
    "id": "advanced-marina"
   },
   "source": [
    "### Feature data summaries\n",
    "After quality filtering, the resulting data can be explored using `feature-table summarize` and `feature table tabulate-seqs`. The former command will give information on how many sequences are associated with each sample and with each feature (OTUs), histograms of those and some related summary statistics while the latter will provide a mapping of feature IDs to sequences, and provide links to easily BLAST each sequence against the NCBI nt database.\n"
   ]
  },
  {
   "cell_type": "code",
   "execution_count": 30,
   "metadata": {
    "id": "south-shore"
   },
   "outputs": [
    {
     "name": "stdout",
     "output_type": "stream",
     "text": [
      "\u001b[32mSaved Visualization to: cleanup/OTU-table.qzv\u001b[0m\r\n"
     ]
    },
    {
     "data": {
      "text/html": [
       "<div><img onload=\"(function(div, url){\n",
       "if (typeof require !== 'undefined') {\n",
       "    var baseURL = require.toUrl('').split('/').slice(0, -2).join('/');\n",
       "} else {\n",
       "    var baseURL = JSON.parse(\n",
       "        document.getElementById('jupyter-config-data').innerHTML\n",
       "    ).baseUrl.slice(0, -1);\n",
       "}\n",
       "url = baseURL + url;\n",
       "fetch(url).then(function(res) {\n",
       "    if (res.status === 404) {\n",
       "        div.innerHTML = 'Install QIIME 2 Jupyter extension with:<br />' +\n",
       "                        '<code>jupyter serverextension enable --py qiime2' +\n",
       "                        ' --sys-prefix</code><br />then restart your server.' +\n",
       "                        '<br /><br />(Interactive output not available on ' +\n",
       "                        'static notebook viewer services like nbviewer.)';\n",
       "    } else if (res.status === 409) {\n",
       "        div.innerHTML = 'Visualization no longer in scope. Re-run this cell' +\n",
       "                        ' to see the visualization.';\n",
       "    } else if (res.ok) {\n",
       "        url = res.url;\n",
       "        div.innerHTML = '<iframe src=\\'' + url + '\\' style=\\'' +\n",
       "                        'width: 100%; height: 700px; border: 0;\\'>' +\n",
       "                        '</iframe><hr />Open in a: <a href=\\'' + url + '\\'' +\n",
       "                        ' target=\\'_blank\\'>new window</a>'\n",
       "    } else {\n",
       "        div.innerHTML = 'Something has gone wrong. Check notebook server for' +\n",
       "                        ' errors.';\n",
       "    }\n",
       "});\n",
       "})(this.parentElement, '/qiime2/redirect?location=/tmp/qiime2-archive-pcunc1v2')\" src=\"data:image/gif;base64,R0lGODlhAQABAIAAAP///wAAACH5BAEAAAAALAAAAAABAAEAAAICRAEAOw==\" /></div>"
      ],
      "text/plain": [
       "<visualization: Visualization uuid: 4c491710-d82d-4661-8647-59446b8066e1>"
      ]
     },
     "execution_count": 30,
     "metadata": {},
     "output_type": "execute_result"
    }
   ],
   "source": [
    "# Summarize OTU table\n",
    "!qiime feature-table summarize \\\n",
    "    --i-table cleanup/OTU-table.qza \\\n",
    "    --o-visualization cleanup/OTU-table.qzv \\\n",
    "    --m-sample-metadata-file metadata.txt\n",
    "\n",
    "# Visualize\n",
    "q2.Visualization.load('cleanup/OTU-table.qzv')"
   ]
  },
  {
   "cell_type": "markdown",
   "metadata": {
    "id": "clean-corruption"
   },
   "source": [
    "The results show how many OTUs were determined in our samples in the overview. In the *Interactive Sample Detail* tab, you can see how many OTUs were detected in each sample. In the last tab (*Feature Detail*), you can see the OTU ID, their frequencies, and occurence in the samples. \n",
    "🤔 What is the most frequently detected OTU?"
   ]
  },
  {
   "cell_type": "code",
   "execution_count": 31,
   "metadata": {
    "collapsed": true,
    "id": "natural-browse"
   },
   "outputs": [
    {
     "name": "stdout",
     "output_type": "stream",
     "text": [
      "\u001b[32mSaved Visualization to: cleanup/OTU-rep-seqs.qzv\u001b[0m\r\n"
     ]
    },
    {
     "data": {
      "text/html": [
       "<div><img onload=\"(function(div, url){\n",
       "if (typeof require !== 'undefined') {\n",
       "    var baseURL = require.toUrl('').split('/').slice(0, -2).join('/');\n",
       "} else {\n",
       "    var baseURL = JSON.parse(\n",
       "        document.getElementById('jupyter-config-data').innerHTML\n",
       "    ).baseUrl.slice(0, -1);\n",
       "}\n",
       "url = baseURL + url;\n",
       "fetch(url).then(function(res) {\n",
       "    if (res.status === 404) {\n",
       "        div.innerHTML = 'Install QIIME 2 Jupyter extension with:<br />' +\n",
       "                        '<code>jupyter serverextension enable --py qiime2' +\n",
       "                        ' --sys-prefix</code><br />then restart your server.' +\n",
       "                        '<br /><br />(Interactive output not available on ' +\n",
       "                        'static notebook viewer services like nbviewer.)';\n",
       "    } else if (res.status === 409) {\n",
       "        div.innerHTML = 'Visualization no longer in scope. Re-run this cell' +\n",
       "                        ' to see the visualization.';\n",
       "    } else if (res.ok) {\n",
       "        url = res.url;\n",
       "        div.innerHTML = '<iframe src=\\'' + url + '\\' style=\\'' +\n",
       "                        'width: 100%; height: 700px; border: 0;\\'>' +\n",
       "                        '</iframe><hr />Open in a: <a href=\\'' + url + '\\'' +\n",
       "                        ' target=\\'_blank\\'>new window</a>'\n",
       "    } else {\n",
       "        div.innerHTML = 'Something has gone wrong. Check notebook server for' +\n",
       "                        ' errors.';\n",
       "    }\n",
       "});\n",
       "})(this.parentElement, '/qiime2/redirect?location=/tmp/qiime2-archive-5wq4xgv_')\" src=\"data:image/gif;base64,R0lGODlhAQABAIAAAP///wAAACH5BAEAAAAALAAAAAABAAEAAAICRAEAOw==\" /></div>"
      ],
      "text/plain": [
       "<visualization: Visualization uuid: f9626ca9-3ad5-47d0-9bc6-9fec8e93e38e>"
      ]
     },
     "execution_count": 31,
     "metadata": {},
     "output_type": "execute_result"
    }
   ],
   "source": [
    "# Map OTUs to sequences\n",
    "!qiime feature-table tabulate-seqs \\\n",
    "    --i-data cleanup/OTU-rep-seqs.qza \\\n",
    "    --o-visualization cleanup/OTU-rep-seqs.qzv\n",
    "\n",
    "# Visualize\n",
    "q2.Visualization.load('cleanup/OTU-rep-seqs.qzv')"
   ]
  },
  {
   "cell_type": "markdown",
   "metadata": {
    "id": "toxic-direction"
   },
   "source": [
    "This summary shows how many different OTUs were detected in each sample. Scroll down to the **Sequence Table** summary. Try to find the most frequent OTU (determined from the previous visualization). Clicking on the link in the **sequence** column will take you to NCBI BLAST, which will match that sequence with other publicly available sequences.\n",
    "🤔 What organism is identified?"
   ]
  },
  {
   "cell_type": "markdown",
   "metadata": {
    "id": "textile-truth"
   },
   "source": [
    "### Taxonomy assignment using SILVA\n",
    "\n",
    "To annotate the metabarcoding data, we use a reference database which will classify the sequences to their taxonomic identities using the plugin `sci-kit learn`. For 18S rRNA eukaryotic data, we will use a curated database, which has been optimized for the specific region targeted by the primers used in this run (18S V4 region). This database was annotated in the Microbial Oceanography Laboratory and features entries from both [SILVA](https://www.arb-silva.de) and [Nordicana](http://www.cen.ulaval.ca/nordicanad/dpage.aspx?doi=45409XD-79A199B76BCC4110) databases. Other references for eukaryotic sequences can be used, such as the [PR2 database](https://pr2-database.org/) which has high-quality reference sequences curated by other experts."
   ]
  },
  {
   "cell_type": "code",
   "execution_count": 32,
   "metadata": {
    "id": "amazing-domestic",
    "scrolled": true
   },
   "outputs": [
    {
     "name": "stdout",
     "output_type": "stream",
     "text": [
      "\u001b[32mSaved FeatureData[Taxonomy] to: tax-assign/OTU-taxa.qza\u001b[0m\r\n"
     ]
    }
   ],
   "source": [
    "# Classify using sci-kit learn (sklearn)\n",
    "!qiime feature-classifier classify-sklearn \\\n",
    "    --i-classifier ../resources/classifier/silva-138-nord-classifier.2021-4.qza \\\n",
    "    --i-reads cleanup/OTU-rep-seqs.qza \\\n",
    "    --o-classification tax-assign/OTU-taxa.qza"
   ]
  },
  {
   "cell_type": "code",
   "execution_count": 33,
   "metadata": {
    "id": "southern-gentleman"
   },
   "outputs": [
    {
     "name": "stdout",
     "output_type": "stream",
     "text": [
      "\u001b[32mSaved Visualization to: tax-assign/OTU-taxa.qzv\u001b[0m\r\n"
     ]
    },
    {
     "data": {
      "text/html": [
       "<div><img onload=\"(function(div, url){\n",
       "if (typeof require !== 'undefined') {\n",
       "    var baseURL = require.toUrl('').split('/').slice(0, -2).join('/');\n",
       "} else {\n",
       "    var baseURL = JSON.parse(\n",
       "        document.getElementById('jupyter-config-data').innerHTML\n",
       "    ).baseUrl.slice(0, -1);\n",
       "}\n",
       "url = baseURL + url;\n",
       "fetch(url).then(function(res) {\n",
       "    if (res.status === 404) {\n",
       "        div.innerHTML = 'Install QIIME 2 Jupyter extension with:<br />' +\n",
       "                        '<code>jupyter serverextension enable --py qiime2' +\n",
       "                        ' --sys-prefix</code><br />then restart your server.' +\n",
       "                        '<br /><br />(Interactive output not available on ' +\n",
       "                        'static notebook viewer services like nbviewer.)';\n",
       "    } else if (res.status === 409) {\n",
       "        div.innerHTML = 'Visualization no longer in scope. Re-run this cell' +\n",
       "                        ' to see the visualization.';\n",
       "    } else if (res.ok) {\n",
       "        url = res.url;\n",
       "        div.innerHTML = '<iframe src=\\'' + url + '\\' style=\\'' +\n",
       "                        'width: 100%; height: 700px; border: 0;\\'>' +\n",
       "                        '</iframe><hr />Open in a: <a href=\\'' + url + '\\'' +\n",
       "                        ' target=\\'_blank\\'>new window</a>'\n",
       "    } else {\n",
       "        div.innerHTML = 'Something has gone wrong. Check notebook server for' +\n",
       "                        ' errors.';\n",
       "    }\n",
       "});\n",
       "})(this.parentElement, '/qiime2/redirect?location=/tmp/qiime2-archive-ms6mog4t')\" src=\"data:image/gif;base64,R0lGODlhAQABAIAAAP///wAAACH5BAEAAAAALAAAAAABAAEAAAICRAEAOw==\" /></div>"
      ],
      "text/plain": [
       "<visualization: Visualization uuid: d925d42f-c472-4a14-8e04-5aa6b1e400a4>"
      ]
     },
     "execution_count": 33,
     "metadata": {},
     "output_type": "execute_result"
    }
   ],
   "source": [
    "# Visualize\n",
    "!qiime metadata tabulate \\\n",
    "    --m-input-file tax-assign/OTU-taxa.qza \\\n",
    "    --o-visualization tax-assign/OTU-taxa.qzv\n",
    "\n",
    "q2.Visualization.load('tax-assign/OTU-taxa.qzv')"
   ]
  },
  {
   "cell_type": "markdown",
   "metadata": {
    "id": "spatial-rebate"
   },
   "source": [
    "We can view interactive taxonomic barplot to see the composition of each sample.\n",
    "\n",
    "After loading the visualization, select *Level* to 7 to view at the most resolved classification. You can also toggle the orders of the samples based on their metadata."
   ]
  },
  {
   "cell_type": "code",
   "execution_count": 34,
   "metadata": {
    "id": "supreme-aspect",
    "scrolled": false
   },
   "outputs": [
    {
     "name": "stdout",
     "output_type": "stream",
     "text": [
      "\u001b[31m\u001b[1mPlugin error from taxa:\r\n",
      "\r\n",
      "  Feature IDs found in the table are missing from the taxonomy: {'AB240956.1', 'AJ007284.1', '377580776ec28ea41156a5c2bbb91699a03d8bfd', 'GQ365798.1', 'X73999.1', '3f7f3523e9fc476027bf07c5f514248ad8588d37', 'AB231617.1', 'AF508272.1', '55da32ee59aae05d5d67a97c59ef8a5489353957', 'JQ966995.1', '14f78ef7a9438df598ee9eb7360650704869c6e6', 'ca963fef8f6e7842067d938366198bf14e8aa785', '20122e052d9cc96b6d9de542e2e5af5c9c17c87f', '161bc56e49e916b7fe8d872ec438143ffcbb54d6', '045ed4f21b156d694d00396c5f33a3dcd09ba02e', '8a96d0d1a36db24913a252c24790cffc63e2d302', '67efbf7baaa2845a78d4059e864d6c8b132e6c98', '11215e60cf303208e2672f5d2f774878d032886c', '11153619d41dd9fd75d2dcfa514a57c3abe75326', '4a9d341341aca823e653a2ac71adb2807b174cf6', 'HQ829180.1', '0a3b5fb3fede73a57173ae7e778d2ee7686ecb02', '13a4c0cc2daab3e79f11a1ccac73208f291adebd', '430dc830f1082e830140d028fd20461205b00a43', 'HQ111513.1', '3fd3738530383686a429d303477f05548231fea6', 'EF486866.1', 'DQ393786.1', 'AB183583.1', '5851e2dcc5ac589c70b91f8a71ba23c9aed5e526', '4e9424737fc335d5926cff5ea2afbd61a66684c8', '45e56fe4dcaa3f8eac77daf60384a980d4bcf3fe', '3cc825265ace9f14d7b5d8cdf582299016703989', '4515f605c7229d6116fdf6bdfc30fced06da5214', '37f72cffb0e4bb4fc88e1e170e8fa7c758dad849', 'JQ966996.1', 'DQ452091.1', '99261dca450940c472c61092f776ce802da72e00', '24a1cc7dcb9c73cf7667613a9afeee169d19ac0d', '39aa7659ae6f6560bd1f47c5d5eb5f3a82dca4da', 'AY541684.1', '11ba6aa726f68bb18bfc5274ba4be77cc0b573e5', 'GQ365767.1', 'FN562450.1', '8a5d2e14720d13149f18f152ea08fdeb8b05a466', '119fd8068127868d9b9d65aa9120758c964cb5cc', 'AF508275.1', '5ada9426d403742961c748698c95113cd90b4861', '0513e9316b34ca06911517cfbbadf23f039a9163', 'DQ025753.1', 'AY143571.1', '845b654ee82c02fc0e828a6dd1688cad57951418', '33bdd92db3a6563e715b0bb223c1ac6b6a16d482', 'AF399151.1', '49ab3756408f1cd7c9523a3e2c85a7dc814be169', 'AB364286.1', '694da5fc41c6fe479d278f87d8de6f1c27059d5f', 'FJ422988.1', 'FJ422993.1', '1e0b82843c9192d33a1578b453f38c50ef7da256', '2c3b42988fe2f91de71d2bd8f997e5f324aae57c', 'FN562453.1', '573b1ef3ce1ba0af92e786a3b00ad040e771b179', '8af87b98da4c1cbd2e4d97bf4140ee4988fd5ee1', 'GQ375264.1', '031bd00a641d0263540386721d951d4aae7f406d', 'AY954998.1', 'e13d3b0eaccc61747425a7667476c7680bc734ee', '83032874797842e17c552cd92859a16ea74f56f1', 'GU246566.1', 'd29bd2bf7c5482e07d5f5cc17491c653e586ebf4', 'AY665083.1', 'AB288381.1', 'AJ628250.2', 'DQ487196.1', '11700a8a7604fcc02a57dc210f1bcc7eccac260d', 'AY329635.1', '5ded13d9c6d2b1ed103ae4339d9e68a3955112dc', '01f79b72678b03e65e0810a3248968892b8ca6a9', 'AY143563.1', 'AY143564.1', '597538da2c43b8090e710c80765f40942184a39c', '5aa77f77f6493dd884f4974e38a7d013ecce8d31', '7bdcf2f2ed343f4940d55a0b258946a9c2e24b3d'}\r\n",
      "\r\n",
      "Debug info has been saved to /tmp/qiime2-q2cli-err-b5oskpf5.log\u001b[0m\r\n"
     ]
    },
    {
     "data": {
      "text/html": [
       "<div><img onload=\"(function(div, url){\n",
       "if (typeof require !== 'undefined') {\n",
       "    var baseURL = require.toUrl('').split('/').slice(0, -2).join('/');\n",
       "} else {\n",
       "    var baseURL = JSON.parse(\n",
       "        document.getElementById('jupyter-config-data').innerHTML\n",
       "    ).baseUrl.slice(0, -1);\n",
       "}\n",
       "url = baseURL + url;\n",
       "fetch(url).then(function(res) {\n",
       "    if (res.status === 404) {\n",
       "        div.innerHTML = 'Install QIIME 2 Jupyter extension with:<br />' +\n",
       "                        '<code>jupyter serverextension enable --py qiime2' +\n",
       "                        ' --sys-prefix</code><br />then restart your server.' +\n",
       "                        '<br /><br />(Interactive output not available on ' +\n",
       "                        'static notebook viewer services like nbviewer.)';\n",
       "    } else if (res.status === 409) {\n",
       "        div.innerHTML = 'Visualization no longer in scope. Re-run this cell' +\n",
       "                        ' to see the visualization.';\n",
       "    } else if (res.ok) {\n",
       "        url = res.url;\n",
       "        div.innerHTML = '<iframe src=\\'' + url + '\\' style=\\'' +\n",
       "                        'width: 100%; height: 700px; border: 0;\\'>' +\n",
       "                        '</iframe><hr />Open in a: <a href=\\'' + url + '\\'' +\n",
       "                        ' target=\\'_blank\\'>new window</a>'\n",
       "    } else {\n",
       "        div.innerHTML = 'Something has gone wrong. Check notebook server for' +\n",
       "                        ' errors.';\n",
       "    }\n",
       "});\n",
       "})(this.parentElement, '/qiime2/redirect?location=/tmp/qiime2-archive-nhrx9fjf')\" src=\"data:image/gif;base64,R0lGODlhAQABAIAAAP///wAAACH5BAEAAAAALAAAAAABAAEAAAICRAEAOw==\" /></div>"
      ],
      "text/plain": [
       "<visualization: Visualization uuid: 49df9c71-69da-476a-bc9f-9a5eb00c545b>"
      ]
     },
     "execution_count": 34,
     "metadata": {},
     "output_type": "execute_result"
    }
   ],
   "source": [
    "# sklearn\n",
    "!qiime taxa barplot \\\n",
    "    --i-table cleanup/OTU-table.qza \\\n",
    "    --i-taxonomy tax-assign/OTU-taxa.qza \\\n",
    "    --m-metadata-file metadata.txt \\\n",
    "    --o-visualization tax-assign/bar-plots-OTU.qzv\n",
    "\n",
    "q2.Visualization.load('tax-assign/bar-plots-OTU.qzv')"
   ]
  },
  {
   "cell_type": "markdown",
   "metadata": {
    "id": "renewable-sheffield"
   },
   "source": [
    "### Exporting OTU tables\n",
    "\n",
    "We can export the OTU tables in a format we can use in other programs, such as R."
   ]
  },
  {
   "cell_type": "code",
   "execution_count": null,
   "metadata": {
    "id": "psychological-garlic",
    "scrolled": true
   },
   "outputs": [],
   "source": [
    "!qiime tools export --input-path cleanup/OTU-table.qza  --output-path exported\n",
    "!qiime tools export --input-path tax-assign/OTU-taxa.qza --output-path exported\n",
    "\n",
    "#Change the first line of biom-taxonomy.tsv (i.e. the header) to this:\n",
    "# #OTUID taxonomy confidence\n",
    "!sed '1c#OTUID\\ttaxonomy\\tconfidence' exported/taxonomy.tsv > exported/biom-taxonomy.tsv"
   ]
  },
  {
   "cell_type": "code",
   "execution_count": null,
   "metadata": {
    "id": "subsequent-programmer",
    "scrolled": false
   },
   "outputs": [],
   "source": [
    "!biom add-metadata \\\n",
    "    -i exported/feature-table.biom \\\n",
    "    -o exported/table-with-taxonomy.biom \\\n",
    "    --observation-metadata-fp exported/biom-taxonomy.tsv \\\n",
    "    --sc-separated taxonomy\n",
    "\n",
    "!biom convert\\\n",
    "    -i exported/table-with-taxonomy.biom\\\n",
    "    -o exported/feature-table-with-tax.tsv\\\n",
    "    --to-tsv \\\n",
    "    --header-key taxonomy"
   ]
  },
  {
   "cell_type": "markdown",
   "metadata": {
    "id": "assigned-threat"
   },
   "source": [
    "Now we have an [OTU table](~/../resources/data/exported/feature-table-with-tax.tsv), showing the feature ID, frequencies in samples, and assigned taxonomy."
   ]
  },
  {
   "cell_type": "code",
   "execution_count": null,
   "metadata": {
    "id": "d8bce6b0"
   },
   "outputs": [],
   "source": [
    "OTUtable = pd.read_csv('exported/feature-table-with-tax.tsv', sep=\"\\t\", header = 1)\n",
    "OTUtable"
   ]
  }
 ],
 "metadata": {
  "colab": {
   "name": "Bioinformatics Workshop - Day 1.ipynb",
   "provenance": []
  },
  "kernelspec": {
   "display_name": "Python 3",
   "language": "python",
   "name": "python3"
  },
  "language_info": {
   "codemirror_mode": {
    "name": "ipython",
    "version": 3
   },
   "file_extension": ".py",
   "mimetype": "text/x-python",
   "name": "python",
   "nbconvert_exporter": "python",
   "pygments_lexer": "ipython3",
   "version": "3.8.10"
  }
 },
 "nbformat": 4,
 "nbformat_minor": 5
}
