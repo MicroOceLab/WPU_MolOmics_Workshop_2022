{
 "cells": [
  {
   "cell_type": "markdown",
   "metadata": {},
   "source": [
    "# Molecular Omics Workshop - Phylogenetic Placement"
   ]
  },
  {
   "cell_type": "markdown",
   "metadata": {},
   "source": [
    "This notebook contains a workflow used in performing phylogenetic placement. This includes: (1) alignment of query sequences (QS) and reference sequences (RS) using PaPaRa, (2) inserting the QS in the reference tree (RT) using RAxML-EPA, and (3) visualizing the tree and generating some metrics to assess the inserted QS."
   ]
  },
  {
   "cell_type": "markdown",
   "metadata": {},
   "source": [
    "## <font color=\"blue\">How to Use This Notebook</font>\n",
    "\n",
    "1. Open jupyter notebook with the command below and select the notebook.\n",
    ">`jupyter-notebook`\n",
    "2. To run the cells in this notebook, press Shift+Enter.\n",
    "3. At any point in the workshop when running a command fails or takes too long, you can copy the necessary files from the finished folder to your data folder to be able to proceed to the next step."
   ]
  },
  {
   "cell_type": "markdown",
   "metadata": {},
   "source": [
    "## <font color=\"blue\">References</font>\n",
    "\n",
    "1. The data used in this demonstration was obtained from the study below. The description of their methods are available in this GitHub repository: [https://github.com/lczech/dinoflagellate-paper](https://github.com/lczech/dinoflagellate-paper).\n",
    "\n",
    "   <i>Gottschling, M., Czech, L., Mahé, F., Adl, S., & Dunthorn, M. (2021). The windblown: possible explanations for dinophyte DNA in forest soils. Journal of Eukaryotic Microbiology, 68(1), e12833.</i>\n",
    "\n",
    "\n",
    "2. PaPaRa\n",
    "\n",
    "   <i>Berger, S. A., & Stamatakis, A. (2011). Aligning short reads to reference alignments and trees. Bioinformatics, 27(15), 2068-2075.</i>\n",
    "\n",
    "   <i>Berger, S. A., & Stamatakis, A. (2012). PaPaRa 2.0: a vectorized algorithm for probabilistic phylogeny-aware alignment extension. Heidelberg Institute for Theoretical Studies, 12.</i>\n",
    "\n",
    "\n",
    "3. RAxML-EPA\n",
    "\n",
    "   <i>Berger, S. A., Krompass, D., & Stamatakis, A. (2011). Performance, accuracy, and web server for evolutionary placement of short sequence reads under maximum likelihood. Systematic biology, 60(3), 291-302.</i>\n",
    "\n",
    "\n",
    "4. Gappa\n",
    "\n",
    "   <i>Czech, L., Barbera, P., & Stamatakis, A. (2020). Genesis and Gappa: processing, analyzing and visualizing phylogenetic (placement) data. Bioinformatics, 36(10), 3263-3265.</i>"
   ]
  },
  {
   "cell_type": "markdown",
   "metadata": {},
   "source": [
    "---\n",
    "## <font color=\"blue\">Table of Contents</font>\n",
    " * [**Step 1: Alignment of QS and RS using PaPaRa**](#Step-1:-Alignment-of-QS-and-RS-using-PaPaRa)  \n",
    " * [**Step 2: Phylogenetic placement using RAxML-EPA**](#Step-2:-Phylogenetic-placement-using-RAxML-EPA)  \n",
    " * [**Step 3: Check some placement statistics**](#Step-3:-Check-some-placement-statistics)\n",
    "     * [Calculate EDPL](#Calculate-EDPL)\n",
    "     * [Tally LWR](#Tally-LWR)\n",
    " * [**Step 4: Visualize tree using Gappa - without multiplicities**](#Step-4:-Visualize-tree-using-Gappa---without-multiplicities)\n",
    " * [**Step 5: Step 5: Revisualize - with multiplicities**](#Step-5:-Revisualize---with-multiplicities)\n",
    "     * [Add multiplicities to tree](#Add-multiplicities-to-tree)\n",
    "     * [Visualize tree with multiplicities](#Visualize-tree-with-multiplicities)\n",
    " * [**Step 6: Revisualize - max LWRs only**](#Step-6:-Revisualize---max-LWRs-only)\n",
    " \n",
    "---"
   ]
  },
  {
   "cell_type": "markdown",
   "metadata": {},
   "source": [
    "# <font color = 'gray'>Step 1: Alignment of QS and RS using PaPaRa</font>"
   ]
  },
  {
   "cell_type": "markdown",
   "metadata": {},
   "source": [
    "The first step involves aligning the query sequences (QS) (`OTU_representatives_dinoflagellates.upper`) to the existing alignment of the reference sequences (RS) (`2_ref_aln.fas`). There are plenty of tools that can accomplish this task, however, `papara` is unique as it incorporates the information from the reference tree (RT) (`3_ref_tree.tre`) when doing this task."
   ]
  },
  {
   "cell_type": "code",
   "execution_count": null,
   "metadata": {},
   "outputs": [],
   "source": [
    "#Align QS to existing reference alignment using PaPaRa\n",
    "!papara \\\n",
    "   -t \"1_init_data/3_ref_tree.tre\" \\\n",
    "   -s \"1_init_data/2_ref_aln.fas\" \\\n",
    "   -q \"1_init_data/OTU_representatives_dinoflagellates.upper\" \\\n",
    "   -n dino_aln\n",
    "\n",
    "#Move output files to 2_alignment\n",
    "!mv papara* 2_alignment"
   ]
  },
  {
   "cell_type": "code",
   "execution_count": null,
   "metadata": {},
   "outputs": [],
   "source": [
    "#Copy the finished output if run is taking too long\n",
    "!cp ../phylo_placement_finished/2_alignment/* 2_alignment/"
   ]
  },
  {
   "cell_type": "markdown",
   "metadata": {},
   "source": [
    "# <font color = 'gray'>Step 2: Phylogenetic placement using RAxML-EPA</font>"
   ]
  },
  {
   "cell_type": "markdown",
   "metadata": {},
   "source": [
    "After aligning the QS and the RS, we are now ready to place the QS om the RT. \n",
    "\n",
    "Briefly, `raxmlHPC` attempts to place a QS to each branch/edge of the RT, and calculates a score for each placement. It will then tally the associated scores for each placement to calculate the likelihood weight ratios (LWR; LWR = [branch LWR] / [total LWR]). This could be interpreted as a probability of the QS being placed onto a certain branch."
   ]
  },
  {
   "cell_type": "markdown",
   "metadata": {},
   "source": [
    "---\n",
    "<div>\n",
    "<img src=\"jupyter_figures/epa_schematic.jpg\" width=\"700\"/>\n",
    "</div>\n",
    "\n",
    "---"
   ]
  },
  {
   "cell_type": "markdown",
   "metadata": {},
   "source": [
    "*This may take a long time to finish. Copy the finished output instead.*"
   ]
  },
  {
   "cell_type": "code",
   "execution_count": null,
   "metadata": {},
   "outputs": [],
   "source": [
    "#Perform phylogenetic placement using RAxML\n",
    "!raxmlHPC \\\n",
    "   -f v \\\n",
    "   -s \"2_alignment/papara_alignment.dino_aln\" \\\n",
    "   -t \"1_init_data/3_ref_tree.tre\" \\\n",
    "   -m GTRGAMMAX \\\n",
    "   -n dino_epa \\\n",
    "   --epa-accumulated-threshold=0.99 \n",
    "\n",
    "#Move output files to 3_epa\n",
    "!mv RAxML* 3_epa"
   ]
  },
  {
   "cell_type": "code",
   "execution_count": null,
   "metadata": {},
   "outputs": [],
   "source": [
    "#Copy the finished output instead\n",
    "!cp ../phylo_placement_finished/3_epa/* 3_epa/"
   ]
  },
  {
   "cell_type": "markdown",
   "metadata": {},
   "source": [
    "# <font color = 'gray'>Step 3: Check some placement statistics</font>"
   ]
  },
  {
   "cell_type": "markdown",
   "metadata": {},
   "source": [
    "For sanity check, we can look at some statistics regarding the placement of the QS onto the RT. In this demo, we will simply be looking at 2 measures."
   ]
  },
  {
   "cell_type": "markdown",
   "metadata": {},
   "source": [
    "### Calculate EDPL"
   ]
  },
  {
   "cell_type": "markdown",
   "metadata": {},
   "source": [
    "The expected distance between placement locations (EDPL) is a measure of the uncertainty of the QS placements. Alternatively, we can view it as how dispersed the QS placements are, weighted by the LWR of each placement. \n",
    "\n",
    "Consider the diagram below (source: [Matsen, 2010](https://bmcbioinformatics.biomedcentral.com/articles/10.1186/1471-2105-11-538)). Although there are plenty of possible placements for the hollow stars, because they are concentrated on small section of the RT, its EDPL value would be low. However, the opposite is true for the filled stars."
   ]
  },
  {
   "cell_type": "markdown",
   "metadata": {},
   "source": [
    "---\n",
    "<div>\n",
    "<img src=\"jupyter_figures/edpl_diagram.png\" width=\"300\"/>\n",
    "</div>\n",
    "\n",
    "---"
   ]
  },
  {
   "cell_type": "code",
   "execution_count": null,
   "metadata": {},
   "outputs": [],
   "source": [
    "#Calculate EDPL value of QS\n",
    "!gappa examine edpl \\\n",
    "   --jplace-path 3_epa/*.jplace \\\n",
    "   --out-dir \"4_gappa_no_multips\" \\\n",
    "   --file-prefix dino_ \\\n",
    "   --allow-file-overwriting"
   ]
  },
  {
   "cell_type": "code",
   "execution_count": null,
   "metadata": {},
   "outputs": [],
   "source": [
    "#Draw histogram of the EDPL values of the QS\n",
    "%matplotlib inline\n",
    "\n",
    "import matplotlib.pyplot as plt\n",
    "import pandas as pd\n",
    "\n",
    "edpl_list=pd.read_csv(\"4_gappa_no_multips/dino_edpl_list.csv\")\n",
    "\n",
    "plt.hist(edpl_list[\"EDPL\"], 20, edgecolor='black')\n",
    "plt.title(\"EDPL Histogram\")\n",
    "plt.show()"
   ]
  },
  {
   "cell_type": "markdown",
   "metadata": {},
   "source": [
    "### Tally LWR"
   ]
  },
  {
   "cell_type": "markdown",
   "metadata": {},
   "source": [
    "We can also check the distribution of the LWR of the QS' placements. In the commands below, we will be looking at a histogram plot of the highest LWR only of all QS."
   ]
  },
  {
   "cell_type": "code",
   "execution_count": null,
   "metadata": {},
   "outputs": [],
   "source": [
    "#List LWR per QS; only top 5 highest LWRs are listed by default\n",
    "!gappa examine lwr-list \\\n",
    "   --jplace-path 3_epa/*.jplace  \\\n",
    "   --out-dir \"4_gappa_no_multips\" \\\n",
    "   --file-prefix dino_ \\\n",
    "   --allow-file-overwriting "
   ]
  },
  {
   "cell_type": "code",
   "execution_count": null,
   "metadata": {},
   "outputs": [],
   "source": [
    "#Draw histogram of the top LWR value of the QS\n",
    "lwr_list=pd.read_csv(\"4_gappa_no_multips/dino_lwr-list.csv\")\n",
    "\n",
    "plt.hist(lwr_list[\"LWR.1\"], 20, edgecolor='black')\n",
    "plt.title(\"LWR.1 Histogram\")\n",
    "plt.show()"
   ]
  },
  {
   "cell_type": "markdown",
   "metadata": {},
   "source": [
    "# <font color = 'gray'>Step 4: Visualize tree using Gappa - without multiplicities</font>"
   ]
  },
  {
   "cell_type": "markdown",
   "metadata": {},
   "source": [
    "Now, we can draw heat tree to see the distribution of the QS placements across the RT. Note that this heat tree accounts for all the possible placements of the QS and not the highest LWR placement only. Also, We are considering branches with at least 0.5 cumulative LWR (`--min-value 0.5`) only."
   ]
  },
  {
   "cell_type": "code",
   "execution_count": null,
   "metadata": {},
   "outputs": [],
   "source": [
    "#Generate a heat tree from the results of RAxML EPA\n",
    "!gappa examine heat-tree \\\n",
    "   --jplace-path 3_epa/*.jplace \\\n",
    "   --log-scaling \\\n",
    "   --write-svg-tree \\\n",
    "   --out-dir \"4_gappa_no_multips\" \\\n",
    "   --file-prefix no_multips_dino_heat_ \\\n",
    "   --allow-file-overwriting \\\n",
    "   --under-color \"#cccccc\" \\\n",
    "   --min-value 0.5 "
   ]
  },
  {
   "cell_type": "code",
   "execution_count": null,
   "metadata": {},
   "outputs": [],
   "source": [
    "import webbrowser\n",
    "\n",
    "webbrowser.open(\"4_gappa_no_multips/no_multips_dino_heat_tree.svg\", new=2)"
   ]
  },
  {
   "cell_type": "markdown",
   "metadata": {},
   "source": [
    "This heat tree does not take into account the frequency/multiplicity of each QS in the sample. Hence, this visual focuses more on the presence/absence of QS and answers the question: <i>**who is present in the sample?**</i>"
   ]
  },
  {
   "cell_type": "markdown",
   "metadata": {},
   "source": [
    "# <font color = 'gray'>Step 5: Revisualize - with multiplicities</font>"
   ]
  },
  {
   "cell_type": "markdown",
   "metadata": {},
   "source": [
    "As mentioned, the visualization above assumes that each QS has a frequency/multiplicity of 1 in the sample. However, in reality, the QS in the sample occur at different multiplicities. To account for this, we can do the following steps."
   ]
  },
  {
   "cell_type": "markdown",
   "metadata": {},
   "source": [
    "### Add multiplicities to tree"
   ]
  },
  {
   "cell_type": "code",
   "execution_count": null,
   "metadata": {},
   "outputs": [],
   "source": [
    "#Create new jplace tree file which includes mutliplicties/abundances of QS\n",
    "!gappa edit multiplicity \\\n",
    "   --jplace-path 3_epa/*jplace \\\n",
    "   --multiplicity-file \"5_gappa_w_multips/QS_multips.txt\" \\\n",
    "   --file-prefix multips_ \\\n",
    "   --out-dir \"5_gappa_w_multips\" \\\n",
    "   --allow-file-overwriting \\\n",
    "   --verbose"
   ]
  },
  {
   "cell_type": "markdown",
   "metadata": {},
   "source": [
    "### Visualize tree with multiplicities"
   ]
  },
  {
   "cell_type": "code",
   "execution_count": null,
   "metadata": {},
   "outputs": [],
   "source": [
    "#Create heat tree of new jplace file with mutiplicities\n",
    "!gappa examine heat-tree \\\n",
    "   --jplace-path 5_gappa_w_multips/*jplace  \\\n",
    "   --log-scaling \\\n",
    "   --write-svg-tree \\\n",
    "   --out-dir \"5_gappa_w_multips\" \\\n",
    "   --file-prefix multips_dino_heat_ \\\n",
    "   --allow-file-overwriting \\\n",
    "   --under-color \"#cccccc\" \\\n",
    "   --min-value 0.5"
   ]
  },
  {
   "cell_type": "code",
   "execution_count": null,
   "metadata": {},
   "outputs": [],
   "source": [
    "webbrowser.open(\"5_gappa_w_multips/multips_dino_heat_tree.svg\", new=2)"
   ]
  },
  {
   "cell_type": "markdown",
   "metadata": {},
   "source": [
    "This time, since we have added the multiplicity information on the tree (`multips_RAxML_portableTree.dino_epa.jplace`), the resulting visual now focuses more on: <i> **what is the distribution of the observed taxons?** </i>"
   ]
  },
  {
   "cell_type": "markdown",
   "metadata": {},
   "source": [
    "# <font color = 'gray'>Step 6: Revisualize - max LWRs only</font>"
   ]
  },
  {
   "cell_type": "markdown",
   "metadata": {},
   "source": [
    "Finally, we can also visualize the heat tree by taking into account the highest LWR (probability) placements of each QS."
   ]
  },
  {
   "cell_type": "markdown",
   "metadata": {},
   "source": [
    "### Visualize tree: max LWRs, without multiplicities"
   ]
  },
  {
   "cell_type": "code",
   "execution_count": null,
   "metadata": {},
   "outputs": [],
   "source": [
    "#Create jplace tree considering the max LWR only for the tree produced by RAxML EPA\n",
    "!gappa examine heat-tree \\\n",
    "   --jplace-path 3_epa/*jplace \\\n",
    "   --log-scaling \\\n",
    "   --write-svg-tree \\\n",
    "   --out-dir \"6_gappa_max_lwr_only\" \\\n",
    "   --file-prefix no_multips_dino_max_heat_ \\\n",
    "   --allow-file-overwriting \\\n",
    "   --under-color \"#cccccc\" \\\n",
    "   --min-value 0.5 \\\n",
    "   --point-mass"
   ]
  },
  {
   "cell_type": "code",
   "execution_count": null,
   "metadata": {},
   "outputs": [],
   "source": [
    "webbrowser.open(\"6_gappa_max_lwr_only/no_multips_dino_max_heat_tree.svg\", new=2)"
   ]
  },
  {
   "cell_type": "markdown",
   "metadata": {},
   "source": [
    "### Visualize tree: max LWRs, with multiplicities"
   ]
  },
  {
   "cell_type": "code",
   "execution_count": null,
   "metadata": {},
   "outputs": [],
   "source": [
    "#Create jplace tree considering the max LWR only for the tree with multiplicities \n",
    "!gappa examine heat-tree \\\n",
    "   --jplace-path 5_gappa_w_multips/*jplace \\\n",
    "   --log-scaling \\\n",
    "   --write-svg-tree \\\n",
    "   --out-dir \"6_gappa_max_lwr_only\" \\\n",
    "   --file-prefix multips_dino_max_heat_ \\\n",
    "   --allow-file-overwriting \\\n",
    "   --under-color \"#cccccc\" \\\n",
    "   --min-value 0.5 \\\n",
    "   --point-mass"
   ]
  },
  {
   "cell_type": "code",
   "execution_count": null,
   "metadata": {},
   "outputs": [],
   "source": [
    "webbrowser.open(\"6_gappa_max_lwr_only/multips_dino_max_heat_tree.svg\", new=2)"
   ]
  },
  {
   "cell_type": "code",
   "execution_count": null,
   "metadata": {},
   "outputs": [],
   "source": []
  }
 ],
 "metadata": {
  "kernelspec": {
   "display_name": "Python 3 (ipykernel)",
   "language": "python",
   "name": "python3"
  },
  "language_info": {
   "codemirror_mode": {
    "name": "ipython",
    "version": 3
   },
   "file_extension": ".py",
   "mimetype": "text/x-python",
   "name": "python",
   "nbconvert_exporter": "python",
   "pygments_lexer": "ipython3",
   "version": "3.11.0"
  }
 },
 "nbformat": 4,
 "nbformat_minor": 4
}
